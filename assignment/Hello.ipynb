{
 "cells": [
  {
   "cell_type": "markdown",
   "id": "d5c44431",
   "metadata": {},
   "source": [
    "# Assignment"
   ]
  },
  {
   "cell_type": "markdown",
   "id": "1df78a6d",
   "metadata": {},
   "source": [
    "## Part 1: Introduction to Python"
   ]
  },
  {
   "cell_type": "markdown",
   "id": "53aaab8c",
   "metadata": {},
   "source": [
    "### Python Installation and Execution"
   ]
  },
  {
   "cell_type": "markdown",
   "id": "f71a6033",
   "metadata": {},
   "source": [
    "Install Python on your system (if not already installed).\n",
    "\n",
    "Write a Python script that prints your name, course name, and the Python version you're using.\n",
    "\n",
    "Execute the script from the command line and include a screenshot of the output."
   ]
  },
  {
   "cell_type": "code",
   "execution_count": 2,
   "id": "e4ce0fe5",
   "metadata": {},
   "outputs": [
    {
     "name": "stdout",
     "output_type": "stream",
     "text": [
      "Name: Aman Choudhary\n",
      "Course: Master of Computer Application\n",
      "Python Version: 3.12.4 | packaged by Anaconda, Inc. | (main, Jun 18 2024, 15:03:56) [MSC v.1929 64 bit (AMD64)]\n"
     ]
    }
   ],
   "source": [
    "import sys\n",
    "\n",
    "# Define your details\n",
    "name = \"Aman Choudhary\"\n",
    "course = \"Master of Computer Application\"\n",
    "\n",
    "# Print your details and Python version\n",
    "print(f\"Name: {name}\")\n",
    "print(f\"Course: {course}\")\n",
    "print(f\"Python Version: {sys.version}\")"
   ]
  },
  {
   "cell_type": "markdown",
   "id": "78bf886b",
   "metadata": {},
   "source": [
    "### Question 1\n",
    "\n",
    "![](./a.png)"
   ]
  },
  {
   "cell_type": "markdown",
   "id": "843ca4bf",
   "metadata": {},
   "source": [
    "## Using IDLE"
   ]
  },
  {
   "cell_type": "markdown",
   "id": "c715343d",
   "metadata": {},
   "source": [
    "### \n",
    "Open IDLE and write a Python script that prints \"Hello, Python World!\".\n",
    "\n",
    "Save the script as hello.py and execute it using IDLE."
   ]
  },
  {
   "cell_type": "code",
   "execution_count": 3,
   "id": "859bde65-2bc9-4b85-aff7-147298cdbb99",
   "metadata": {},
   "outputs": [
    {
     "name": "stdout",
     "output_type": "stream",
     "text": [
      "HELLO , PYTHON WORLD\n"
     ]
    }
   ],
   "source": [
    "a = \"HELLO , PYTHON WORLD\"\n",
    "print(a)"
   ]
  },
  {
   "cell_type": "markdown",
   "id": "4b8059f0",
   "metadata": {},
   "source": [
    "## String Operations"
   ]
  },
  {
   "cell_type": "markdown",
   "id": "d210494c",
   "metadata": {},
   "source": [
    "### \n",
    "Write a Python program that takes a user's first and last name as input and prints them in reverse order with a space between them.\n",
    "\n",
    "Use at least two string methods and explain their purpose in the comments."
   ]
  },
  {
   "cell_type": "code",
   "execution_count": 3,
   "id": "97460e41-ad5f-4dec-ad78-075653325ea6",
   "metadata": {},
   "outputs": [
    {
     "name": "stdout",
     "output_type": "stream",
     "text": [
      "yrahduohC namA\n"
     ]
    }
   ],
   "source": [
    "a = input(\"Enter the first name: \")\n",
    "b = input(\"Enter the second name: \")\n",
    "c = a + \" \" + b  # Combine the names with a space\n",
    "print(c[::-1])  # Print the reversed string"
   ]
  },
  {
   "cell_type": "markdown",
   "id": "aa619ed3",
   "metadata": {},
   "source": [
    "## Numeric Data Types and Conversion Functions"
   ]
  },
  {
   "cell_type": "markdown",
   "id": "b822c2af",
   "metadata": {},
   "source": [
    "###\n",
    "Write a Python program that takes an input number from the user, converts it to different numeric data types (integer, float, and complex), and displays the converted values.\n",
    "\n",
    "Explain the difference between these data types in comments."
   ]
  },
  {
   "cell_type": "code",
   "execution_count": 5,
   "id": "da3fdc22-bbe7-4aa5-bdf4-4df817fa4618",
   "metadata": {},
   "outputs": [
    {
     "name": "stdout",
     "output_type": "stream",
     "text": [
      "The Float Value is 10.0\n"
     ]
    }
   ],
   "source": [
    "#In this code we take a input from user of number and store in the int variable a and then convert in other datatype\n",
    "\n",
    "a = int(input(\"Enter the number :\"))  #taking a integer input from user and store in varaible a \n",
    "b =  input(\"IN WHICH DATATYPE YOU WANT TO CONVERT FOR INT TYPE int FOR FLOAT TYPE flt FOR COMPLEX cmp \") #Then ask to user in which datatype he/she want to convert if they want interger type int otherwise for float type flt or if they want complex then type cmp\n",
    "if b=='int': \n",
    "    d = int(a) \n",
    "    print(\"The Interger Value is\" , d) #and then print d \n",
    "elif b=='flt':  \n",
    "    d = float(a)   \n",
    "    print(\"The Float Value is\" , d)  #and print d \n",
    "elif b=='cmp' : \n",
    "    d=complex(a) #in this user input is converted into complex number \n",
    "    print(\"The Complex Value is \" ,d)    #then print d \n",
    "    "
   ]
  },
  {
   "cell_type": "markdown",
   "id": "4f741e36",
   "metadata": {},
   "source": [
    "## Simple Input and Output"
   ]
  },
  {
   "cell_type": "markdown",
   "id": "84949e1c",
   "metadata": {},
   "source": [
    "###\n",
    "Create a Python script that calculates the area of a rectangle. The script should:\n",
    "\n",
    "Prompt the user to enter the length and width of the rectangle.\n",
    "\n",
    "Calculate the area.\n",
    "\n",
    "Display the result using the print function."
   ]
  },
  {
   "cell_type": "code",
   "execution_count": 8,
   "id": "6c57f84a-1e9e-4dcf-983a-68d2b2638839",
   "metadata": {},
   "outputs": [
    {
     "name": "stdout",
     "output_type": "stream",
     "text": [
      "The Area of Rectangle is  200\n"
     ]
    }
   ],
   "source": [
    "\n",
    "#In this code we take user input of length and breadth and the calculate the area of rectangle and then print it\n",
    "length_ = int(input(\"Enter the length of the rectangle\"))    #in this line we take a integer input from user and store in the lenth_ variable \n",
    "breadth_ = int (input(\"Enter the breadth of the rectangle \"))  #in this line we also take a integer input from user and store in the variable breadth_\n",
    "final_area = length_* breadth_   # we take another variable of final_area in which the value of lenth_ and breadth_ is multiplied because for area of rectangle we should multiply length and breadth \n",
    "print(\"The Area of Rectangle is \" , final_area)    #then we use print command and print the final output "
   ]
  },
  {
   "cell_type": "markdown",
   "id": "2639f248",
   "metadata": {},
   "source": [
    "## Using the format Method\n",
    "\n",
    "\n"
   ]
  },
  {
   "cell_type": "markdown",
   "id": "71d65a68",
   "metadata": {},
   "source": [
    "###\n",
    " Modify the rectangle area program to format the output so that it displays the area with two decimal places."
   ]
  },
  {
   "cell_type": "code",
   "execution_count": 10,
   "id": "7c2e43a2-fa88-4025-aa1f-d79743bf14b7",
   "metadata": {},
   "outputs": [
    {
     "name": "stdout",
     "output_type": "stream",
     "text": [
      "The area of the rectangle is: 200.00\n"
     ]
    }
   ],
   "source": [
    "#Using format function calculate the area of rectangle from the above function \n",
    "print(f\"The area of the rectangle is: {final_area:.2f}\")  #we take the same upper function just use the print commant to print the area in 2 decimal position using format function "
   ]
  },
  {
   "cell_type": "markdown",
   "id": "c58654a0",
   "metadata": {},
   "source": [
    "## The % Method and print Function"
   ]
  },
  {
   "cell_type": "markdown",
   "id": "6306a9bf",
   "metadata": {},
   "source": [
    "### \n",
    "Write a Python script that takes three numbers as input and prints their average using the % method for string formatting.\n",
    "\n",
    "Also, use the print function to display a message that states, \"The average of the three numbers is: [calculated average]\"."
   ]
  },
  {
   "cell_type": "code",
   "execution_count": 11,
   "id": "b972300c-f4cb-4fcf-aa16-84f67cba883f",
   "metadata": {},
   "outputs": [
    {
     "name": "stdout",
     "output_type": "stream",
     "text": [
      "The average of the three numbers is: 16.67\n"
     ]
    }
   ],
   "source": [
    "# Input three numbers from the user\n",
    "num1 = float(input(\"Enter the first number: \"))\n",
    "num2 = float(input(\"Enter the second number: \"))\n",
    "num3 = float(input(\"Enter the third number: \"))\n",
    "\n",
    "# Calculate the average\n",
    "average = (num1 + num2 + num3) / 3\n",
    "\n",
    "# Print the average using the % method for string formatting\n",
    "print(\"The average of the three numbers is: %.2f\" % average)"
   ]
  },
  {
   "cell_type": "markdown",
   "id": "baffc4ff",
   "metadata": {},
   "source": [
    "## Control Flow (if Statements and Loops)"
   ]
  },
  {
   "cell_type": "markdown",
   "id": "badedef6",
   "metadata": {},
   "source": [
    "### \n",
    "Write a Python program that asks the user for a number and determines whether it is positive, negative, or zero.\n",
    "\n"
   ]
  },
  {
   "cell_type": "code",
   "execution_count": 14,
   "id": "fdb39220-9b2a-445e-bd7e-d1fd0cd016fa",
   "metadata": {},
   "outputs": [
    {
     "name": "stdout",
     "output_type": "stream",
     "text": [
      "Enter a number:  12\n"
     ]
    },
    {
     "name": "stdout",
     "output_type": "stream",
     "text": [
      "The number is positive.\n"
     ]
    }
   ],
   "source": [
    "# Ask the user for a number\n",
    "number = float(input(\"Enter a number: \"))\n",
    "\n",
    "# Determine if the number is positive, negative, or zero using if elif and else statement\n",
    "if number > 0:\n",
    "    print(\"The number is positive.\")\n",
    "elif number < 0:\n",
    "    print(\"The number is negative.\")\n",
    "else:\n",
    "    print(\"The number is zero.\")"
   ]
  },
  {
   "cell_type": "markdown",
   "id": "d6e2d464",
   "metadata": {},
   "source": [
    "##\n",
    "Implement a loop that continues to ask the user for a number until they enter 'exit'.\n",
    "\n",
    "Use break to exit the loop and continue to prompt for a new number if the input is not 'exit'.\n"
   ]
  },
  {
   "cell_type": "code",
   "execution_count": 12,
   "id": "e9e168c0-2613-4ae0-b721-77e0885f347e",
   "metadata": {},
   "outputs": [
    {
     "name": "stdout",
     "output_type": "stream",
     "text": [
      "The number is positive.\n",
      "The number is positive.\n",
      "Exiting the program. Goodbye!\n"
     ]
    }
   ],
   "source": [
    "while True:\n",
    "    # Ask the user for input\n",
    "    user_input = input(\"Enter a number (or type 'exit' to quit): \")\n",
    "    \n",
    "    # Check if the user wants to exit\n",
    "    if user_input.lower() == 'exit':\n",
    "        print(\"Exiting the program. Goodbye!\")\n",
    "        break\n",
    "    \n",
    "    else:\n",
    "        # Convert input to a float and determine if it is positive, negative, or zero\n",
    "        number = float(user_input)\n",
    "        \n",
    "        if number > 0:\n",
    "            print(\"The number is positive.\")\n",
    "        elif number < 0:\n",
    "            print(\"The number is negative.\")\n",
    "        else:\n",
    "            print(\"The number is zero.\")\n",
    "    "
   ]
  },
  {
   "cell_type": "markdown",
   "id": "cc1a6234",
   "metadata": {},
   "source": [
    "## Relational and Logical Operators"
   ]
  },
  {
   "cell_type": "markdown",
   "id": "692e0b32",
   "metadata": {},
   "source": [
    "###\n",
    "Create a Python script that takes two numbers as input and prints whether both numbers are even, odd, or one of each using relational and logical operators."
   ]
  },
  {
   "cell_type": "code",
   "execution_count": 13,
   "id": "1153b3eb-90c6-4f04-8ce4-8453edc9191d",
   "metadata": {},
   "outputs": [
    {
     "name": "stdout",
     "output_type": "stream",
     "text": [
      "Both numbers are even.\n"
     ]
    }
   ],
   "source": [
    "# Input two numbers from the user\n",
    "first_number = int(input(\"Enter the first number: \"))\n",
    "second_number = int(input(\"Enter the second number: \"))\n",
    "\n",
    "# Check whether both numbers are even, odd, or one of each using relational and logical operator\n",
    "if first_number % 2 == 0 and second_number % 2 == 0:\n",
    "    print(\"Both numbers are even.\")\n",
    "elif first_number % 2 != 0 and second_number % 2 != 0:\n",
    "    print(\"Both numbers are odd.\")\n",
    "else:\n",
    "    print(\"One number is even and the other is odd.\")\n"
   ]
  },
  {
   "cell_type": "markdown",
   "id": "1088886b",
   "metadata": {},
   "source": [
    "## For Loop and Bitwise Operators"
   ]
  },
  {
   "cell_type": "markdown",
   "id": "7e7944d7",
   "metadata": {},
   "source": [
    "###\n",
    "Write a Python program that takes an integer input and prints its binary, octal, and hexadecimal equivalents using a for loop and bitwise operators."
   ]
  },
  {
   "cell_type": "code",
   "execution_count": 14,
   "id": "a20a6d66-f5cc-4eed-9f95-ee1301121e55",
   "metadata": {},
   "outputs": [
    {
     "name": "stdout",
     "output_type": "stream",
     "text": [
      "Binary: 100001\n",
      "Octal: 10\n",
      "Hexadecimal: 10\n"
     ]
    }
   ],
   "source": [
    "# Function to convert a number to binary, octal, and hexadecimal using bitwise operations\n",
    "def convert_number(num):\n",
    "    # Binary conversion\n",
    "    binary = ''\n",
    "    for i in range(num.bit_length(), -1, -1):\n",
    "        binary += '1' if (num >> i) & 1 else '0'\n",
    "    binary = binary.lstrip('0') or '0'  # Remove leading zeros\n",
    "\n",
    "    # Octal conversion\n",
    "    octal = ''\n",
    "    for i in range(num.bit_length() - 1, -1, -3):  # Group by 3 bits for octal\n",
    "        octal_digit = (num >> i) & 7  # Extract 3 bits at a time\n",
    "        octal += str(octal_digit)\n",
    "    octal = octal.lstrip('0') or '0'  # Remove leading zeros\n",
    "\n",
    "    # Hexadecimal conversion\n",
    "    hex_digits = \"0123456789ABCDEF\"\n",
    "    hexadecimal = ''\n",
    "    for i in range(num.bit_length() - 1, -1, -4):  # Group by 4 bits for hexadecimal\n",
    "        hex_digit = (num >> i) & 15  # Extract 4 bits at a time\n",
    "        hexadecimal += hex_digits[hex_digit]\n",
    "    hexadecimal = hexadecimal.lstrip('0') or '0'  # Remove leading zeros\n",
    "\n",
    "    print(f\"Binary: {binary}\")\n",
    "    print(f\"Octal: {octal}\")\n",
    "    print(f\"Hexadecimal: {hexadecimal}\")\n",
    "\n",
    "# Take integer input from the user\n",
    "number = int(input(\"Enter an integer: \"))\n",
    "convert_number(number)"
   ]
  }
 ],
 "metadata": {
  "kernelspec": {
   "display_name": "Python 3 (ipykernel)",
   "language": "python",
   "name": "python3"
  },
  "language_info": {
   "codemirror_mode": {
    "name": "ipython",
    "version": 3
   },
   "file_extension": ".py",
   "mimetype": "text/x-python",
   "name": "python",
   "nbconvert_exporter": "python",
   "pygments_lexer": "ipython3",
   "version": "3.12.4"
  }
 },
 "nbformat": 4,
 "nbformat_minor": 5
}
